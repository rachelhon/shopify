{
 "cells": [
  {
   "cell_type": "markdown",
   "id": "a4a77644",
   "metadata": {},
   "source": [
    "# Question 1"
   ]
  },
  {
   "cell_type": "markdown",
   "id": "080da04b",
   "metadata": {},
   "source": [
    "On Shopify, we have exactly 100 sneaker shops, and each of these shops sells only one model of shoe. We want to do some analysis of the average order value (AOV). When we look at orders data over a 30 day window, we naively calculate an AOV of $3145.13. Given that we know these shops are selling sneakers, a relatively affordable item, something seems wrong with our analysis."
   ]
  },
  {
   "cell_type": "code",
   "execution_count": 27,
   "id": "bb73820f",
   "metadata": {},
   "outputs": [
    {
     "data": {
      "text/html": [
       "<div>\n",
       "<style scoped>\n",
       "    .dataframe tbody tr th:only-of-type {\n",
       "        vertical-align: middle;\n",
       "    }\n",
       "\n",
       "    .dataframe tbody tr th {\n",
       "        vertical-align: top;\n",
       "    }\n",
       "\n",
       "    .dataframe thead th {\n",
       "        text-align: right;\n",
       "    }\n",
       "</style>\n",
       "<table border=\"1\" class=\"dataframe\">\n",
       "  <thead>\n",
       "    <tr style=\"text-align: right;\">\n",
       "      <th></th>\n",
       "      <th>order_id</th>\n",
       "      <th>shop_id</th>\n",
       "      <th>user_id</th>\n",
       "      <th>order_amount</th>\n",
       "      <th>total_items</th>\n",
       "      <th>payment_method</th>\n",
       "      <th>created_at</th>\n",
       "    </tr>\n",
       "  </thead>\n",
       "  <tbody>\n",
       "    <tr>\n",
       "      <th>0</th>\n",
       "      <td>1</td>\n",
       "      <td>53</td>\n",
       "      <td>746</td>\n",
       "      <td>224</td>\n",
       "      <td>2</td>\n",
       "      <td>cash</td>\n",
       "      <td>2017-03-13 12:36:56</td>\n",
       "    </tr>\n",
       "    <tr>\n",
       "      <th>1</th>\n",
       "      <td>2</td>\n",
       "      <td>92</td>\n",
       "      <td>925</td>\n",
       "      <td>90</td>\n",
       "      <td>1</td>\n",
       "      <td>cash</td>\n",
       "      <td>2017-03-03 17:38:52</td>\n",
       "    </tr>\n",
       "    <tr>\n",
       "      <th>2</th>\n",
       "      <td>3</td>\n",
       "      <td>44</td>\n",
       "      <td>861</td>\n",
       "      <td>144</td>\n",
       "      <td>1</td>\n",
       "      <td>cash</td>\n",
       "      <td>2017-03-14 4:23:56</td>\n",
       "    </tr>\n",
       "    <tr>\n",
       "      <th>3</th>\n",
       "      <td>4</td>\n",
       "      <td>18</td>\n",
       "      <td>935</td>\n",
       "      <td>156</td>\n",
       "      <td>1</td>\n",
       "      <td>credit_card</td>\n",
       "      <td>2017-03-26 12:43:37</td>\n",
       "    </tr>\n",
       "    <tr>\n",
       "      <th>4</th>\n",
       "      <td>5</td>\n",
       "      <td>18</td>\n",
       "      <td>883</td>\n",
       "      <td>156</td>\n",
       "      <td>1</td>\n",
       "      <td>credit_card</td>\n",
       "      <td>2017-03-01 4:35:11</td>\n",
       "    </tr>\n",
       "  </tbody>\n",
       "</table>\n",
       "</div>"
      ],
      "text/plain": [
       "   order_id  shop_id  user_id  order_amount  total_items payment_method  \\\n",
       "0         1       53      746           224            2           cash   \n",
       "1         2       92      925            90            1           cash   \n",
       "2         3       44      861           144            1           cash   \n",
       "3         4       18      935           156            1    credit_card   \n",
       "4         5       18      883           156            1    credit_card   \n",
       "\n",
       "            created_at  \n",
       "0  2017-03-13 12:36:56  \n",
       "1  2017-03-03 17:38:52  \n",
       "2   2017-03-14 4:23:56  \n",
       "3  2017-03-26 12:43:37  \n",
       "4   2017-03-01 4:35:11  "
      ]
     },
     "execution_count": 27,
     "metadata": {},
     "output_type": "execute_result"
    }
   ],
   "source": [
    "#Import library and csv file\n",
    "from pathlib import Path\n",
    "import pandas as pd\n",
    "import matplotlib.pyplot as plt\n",
    "\n",
    "df = pd.read_csv(\"Copy of 2019 Winter Data Science Intern Challenge Data Set - Sheet1-2.csv\")\n",
    "df.head()"
   ]
  },
  {
   "cell_type": "markdown",
   "id": "c5503340",
   "metadata": {},
   "source": [
    "## Part A : Think about what could be going wrong with our calculation. Think about a better way to evaluate this data. \n"
   ]
  },
  {
   "cell_type": "markdown",
   "id": "54772d1a",
   "metadata": {},
   "source": [
    "**Answer**: The incorrect AOV of \\$3145.13 was calculated by taking the mean of `order_amount` directly without dividing by `total_items`. The correct AOV should be \\$357.92"
   ]
  },
  {
   "cell_type": "code",
   "execution_count": 28,
   "id": "9025592c",
   "metadata": {},
   "outputs": [
    {
     "name": "stdout",
     "output_type": "stream",
     "text": [
      "Sum of order amount: 15725640\n",
      "Sum of total items: 43936\n",
      "AOV: $357.92\n"
     ]
    }
   ],
   "source": [
    "order_amount_sum = df['order_amount'].sum()\n",
    "total_items_sum = df['total_items'].sum()\n",
    "aov = order_amount_sum/total_items_sum\n",
    "\n",
    "print(\"Sum of order amount:\", order_amount_sum)\n",
    "print(\"Sum of total items:\", total_items_sum)\n",
    "print(\"AOV:\",'${:,.2f}'.format(aov))"
   ]
  },
  {
   "cell_type": "code",
   "execution_count": 29,
   "id": "3104a688",
   "metadata": {},
   "outputs": [
    {
     "data": {
      "text/plain": [
       "count      5000.000000\n",
       "mean       3145.128000\n",
       "std       41282.539349\n",
       "min          90.000000\n",
       "25%         163.000000\n",
       "50%         284.000000\n",
       "75%         390.000000\n",
       "max      704000.000000\n",
       "Name: order_amount, dtype: float64"
      ]
     },
     "execution_count": 29,
     "metadata": {},
     "output_type": "execute_result"
    }
   ],
   "source": [
    "df['order_amount'].describe()"
   ]
  },
  {
   "cell_type": "markdown",
   "id": "51c9a9fa",
   "metadata": {},
   "source": [
    "## Part B: What metric would you report for this dataset?"
   ]
  },
  {
   "cell_type": "markdown",
   "id": "c7683aed",
   "metadata": {},
   "source": [
    "**Answer**: Since there is wide `order_amount` range, I would report a truncated dataset, median and modal value to address the large outlier value."
   ]
  },
  {
   "cell_type": "markdown",
   "id": "a46b7f1f",
   "metadata": {},
   "source": [
    "Please review the data analysis and visualization that landded the above suggested metrics in the following cells. Further explination of metrics and their corresponding values can be found in **Part C**."
   ]
  },
  {
   "cell_type": "markdown",
   "id": "df9cf678",
   "metadata": {},
   "source": [
    "### wide order_amount range"
   ]
  },
  {
   "cell_type": "markdown",
   "id": "2e80879e",
   "metadata": {},
   "source": [
    "Since each shop only sells one model of sneakers, the `AOV` of each shop will be the price of the model of sneaker the shop sells. While exploring the `aov per shop`, we observed that the `max` is `$25725.00` while the 3th quantile is only `$168.25`. That being said, there is an `outlier`that has an extreme large value which will affect the mean value. We can see that by plotting `boxplot`: all `aov per shop` clusther around the bottom of the `boxplot`, except shop 78 which its `AOV` is `$25725.00`."
   ]
  },
  {
   "cell_type": "code",
   "execution_count": 30,
   "id": "1eca8628",
   "metadata": {},
   "outputs": [
    {
     "data": {
      "text/html": [
       "<div>\n",
       "<style scoped>\n",
       "    .dataframe tbody tr th:only-of-type {\n",
       "        vertical-align: middle;\n",
       "    }\n",
       "\n",
       "    .dataframe tbody tr th {\n",
       "        vertical-align: top;\n",
       "    }\n",
       "\n",
       "    .dataframe thead th {\n",
       "        text-align: right;\n",
       "    }\n",
       "</style>\n",
       "<table border=\"1\" class=\"dataframe\">\n",
       "  <thead>\n",
       "    <tr style=\"text-align: right;\">\n",
       "      <th></th>\n",
       "      <th>aov per shop</th>\n",
       "    </tr>\n",
       "  </thead>\n",
       "  <tbody>\n",
       "    <tr>\n",
       "      <th>count</th>\n",
       "      <td>100.000000</td>\n",
       "    </tr>\n",
       "    <tr>\n",
       "      <th>mean</th>\n",
       "      <td>407.990000</td>\n",
       "    </tr>\n",
       "    <tr>\n",
       "      <th>std</th>\n",
       "      <td>2557.462906</td>\n",
       "    </tr>\n",
       "    <tr>\n",
       "      <th>min</th>\n",
       "      <td>90.000000</td>\n",
       "    </tr>\n",
       "    <tr>\n",
       "      <th>25%</th>\n",
       "      <td>132.750000</td>\n",
       "    </tr>\n",
       "    <tr>\n",
       "      <th>50%</th>\n",
       "      <td>153.000000</td>\n",
       "    </tr>\n",
       "    <tr>\n",
       "      <th>75%</th>\n",
       "      <td>168.250000</td>\n",
       "    </tr>\n",
       "    <tr>\n",
       "      <th>max</th>\n",
       "      <td>25725.000000</td>\n",
       "    </tr>\n",
       "  </tbody>\n",
       "</table>\n",
       "</div>"
      ],
      "text/plain": [
       "       aov per shop\n",
       "count    100.000000\n",
       "mean     407.990000\n",
       "std     2557.462906\n",
       "min       90.000000\n",
       "25%      132.750000\n",
       "50%      153.000000\n",
       "75%      168.250000\n",
       "max    25725.000000"
      ]
     },
     "execution_count": 30,
     "metadata": {},
     "output_type": "execute_result"
    }
   ],
   "source": [
    "order_amount_sum = df.groupby(['shop_id'])['order_amount'].sum()\n",
    "total_items_sum = df.groupby(['shop_id'])['total_items'].sum()\n",
    "aov_per_shop = order_amount_sum/total_items_sum\n",
    "aov_df = aov_per_shop.to_frame()\n",
    "aov_df.rename( {\"shop_id\": \"shop_id\", 0:'aov per shop'},axis = 1, inplace = True)\n",
    "\n",
    "aov_df.describe()"
   ]
  },
  {
   "cell_type": "code",
   "execution_count": 31,
   "id": "c36a49a3",
   "metadata": {},
   "outputs": [
    {
     "data": {
      "text/plain": [
       "<AxesSubplot:>"
      ]
     },
     "execution_count": 31,
     "metadata": {},
     "output_type": "execute_result"
    },
    {
     "data": {
      "image/png": "[encoded data removed]",
      "text/plain": [
       "<Figure size 432x288 with 1 Axes>"
      ]
     },
     "metadata": {
      "needs_background": "light"
     },
     "output_type": "display_data"
    }
   ],
   "source": [
    "aov_df.boxplot(column='aov per shop')"
   ]
  },
  {
   "cell_type": "code",
   "execution_count": 32,
   "id": "015b480c",
   "metadata": {},
   "outputs": [
    {
     "data": {
      "text/html": [
       "<div>\n",
       "<style scoped>\n",
       "    .dataframe tbody tr th:only-of-type {\n",
       "        vertical-align: middle;\n",
       "    }\n",
       "\n",
       "    .dataframe tbody tr th {\n",
       "        vertical-align: top;\n",
       "    }\n",
       "\n",
       "    .dataframe thead th {\n",
       "        text-align: right;\n",
       "    }\n",
       "</style>\n",
       "<table border=\"1\" class=\"dataframe\">\n",
       "  <thead>\n",
       "    <tr style=\"text-align: right;\">\n",
       "      <th></th>\n",
       "      <th>aov per shop</th>\n",
       "    </tr>\n",
       "    <tr>\n",
       "      <th>shop_id</th>\n",
       "      <th></th>\n",
       "    </tr>\n",
       "  </thead>\n",
       "  <tbody>\n",
       "    <tr>\n",
       "      <th>78</th>\n",
       "      <td>25725.0</td>\n",
       "    </tr>\n",
       "  </tbody>\n",
       "</table>\n",
       "</div>"
      ],
      "text/plain": [
       "         aov per shop\n",
       "shop_id              \n",
       "78            25725.0"
      ]
     },
     "execution_count": 32,
     "metadata": {},
     "output_type": "execute_result"
    }
   ],
   "source": [
    "outlier = aov_df['aov per shop'].max()\n",
    "aov_df[aov_df['aov per shop'] == outlier]"
   ]
  },
  {
   "cell_type": "markdown",
   "id": "83d548e1",
   "metadata": {},
   "source": [
    "## Part C: What is its value?"
   ]
  },
  {
   "cell_type": "markdown",
   "id": "a9f2ca24",
   "metadata": {},
   "source": [
    "### Truncated dataset"
   ]
  },
  {
   "cell_type": "markdown",
   "id": "d986e6ba",
   "metadata": {},
   "source": [
    "**Answer**: In the above `boxplot`, we notice that the distribution extremely skewed to the bottom. Therefore, I would like to truncated the datset within median +/- 1.5. And now, we can see that the `truncated_df` is evenly distributed, with a median of `$153` and an acceptably small standard deviation `std` of `$22.61`."
   ]
  },
  {
   "cell_type": "code",
   "execution_count": 33,
   "id": "5974d29d",
   "metadata": {},
   "outputs": [
    {
     "data": {
      "text/plain": [
       "count     96.000000\n",
       "mean     151.437500\n",
       "std       22.607783\n",
       "min      101.000000\n",
       "25%      133.000000\n",
       "50%      153.000000\n",
       "75%      166.500000\n",
       "max      201.000000\n",
       "Name: aov per shop, dtype: float64"
      ]
     },
     "execution_count": 33,
     "metadata": {},
     "output_type": "execute_result"
    },
    {
     "data": {
      "image/png": "[encoded data removed]",
      "text/plain": [
       "<Figure size 432x288 with 1 Axes>"
      ]
     },
     "metadata": {
      "needs_background": "light"
     },
     "output_type": "display_data"
    }
   ],
   "source": [
    "q1 = aov_df['aov per shop'].quantile(q=0.25)\n",
    "q2 = aov_df['aov per shop'].quantile(q=0.5)\n",
    "q3 = aov_df['aov per shop'].quantile(q=0.75)\n",
    "IQR = q3 - q1\n",
    "\n",
    "truncated_df = aov_df[(aov_df['aov per shop'] < q2 + IQR * 1.5) & (aov_df['aov per shop'] > q2 - IQR * 1.5)]\n",
    "truncated_df.boxplot(column='aov per shop')\n",
    "truncated_df['aov per shop'].describe()"
   ]
  },
  {
   "cell_type": "markdown",
   "id": "bcf6d432",
   "metadata": {},
   "source": [
    "### median value & modal value"
   ]
  },
  {
   "cell_type": "markdown",
   "id": "56ded674",
   "metadata": {},
   "source": [
    "**Answer**: We can also simply use the median and mode of the `aov of shop`, which are both `$153.0`."
   ]
  },
  {
   "cell_type": "code",
   "execution_count": 34,
   "id": "254c54da",
   "metadata": {},
   "outputs": [
    {
     "data": {
      "text/plain": [
       "153.0"
      ]
     },
     "execution_count": 34,
     "metadata": {},
     "output_type": "execute_result"
    }
   ],
   "source": [
    "aov_df['aov per shop'].median()"
   ]
  },
  {
   "cell_type": "code",
   "execution_count": 35,
   "id": "b07a2f05",
   "metadata": {},
   "outputs": [
    {
     "data": {
      "text/plain": [
       "0    153.0\n",
       "dtype: float64"
      ]
     },
     "execution_count": 35,
     "metadata": {},
     "output_type": "execute_result"
    }
   ],
   "source": [
    "aov_df['aov per shop'].mode()"
   ]
  }
 ],
 "metadata": {
  "kernelspec": {
   "display_name": "Python 3 (ipykernel)",
   "language": "python",
   "name": "python3"
  },
  "language_info": {
   "codemirror_mode": {
    "name": "ipython",
    "version": 3
   },
   "file_extension": ".py",
   "mimetype": "text/x-python",
   "name": "python",
   "nbconvert_exporter": "python",
   "pygments_lexer": "ipython3",
   "version": "3.8.11"
  }
 },
 "nbformat": 4,
 "nbformat_minor": 5
}
